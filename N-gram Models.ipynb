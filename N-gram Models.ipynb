{
 "cells": [
  {
   "cell_type": "markdown",
   "id": "a012ca34-2a82-4952-8e3a-8391a711ae83",
   "metadata": {},
   "source": [
    "Unigram Model"
   ]
  },
  {
   "cell_type": "code",
   "execution_count": 1,
   "id": "48fa8195-c911-4dc9-b122-ac78212e95d2",
   "metadata": {},
   "outputs": [],
   "source": [
    "import random"
   ]
  },
  {
   "cell_type": "code",
   "execution_count": 2,
   "id": "952d7b9c-58c8-49f9-9cd4-8aff37209cc1",
   "metadata": {},
   "outputs": [
    {
     "name": "stdout",
     "output_type": "stream",
     "text": [
      "Splitted text : \n",
      "on on cat mat on cat sat is is is\n"
     ]
    }
   ],
   "source": [
    "corpus = \"the cat sat on the mat the cat is fat\"\n",
    "\n",
    "#split the corpus into words\n",
    "words = corpus.split()\n",
    "print(\"Splitted text : \")                                                                                                                         \n",
    "\n",
    "#Calculate unigram probabilities\n",
    "word_freq = {word: words.count(word) for word in set(words)}\n",
    "total_words = len(words)\n",
    "word_prob = {word: freq / total_words for word, freq in word_freq.items()}\n",
    "\n",
    "#Generate text\n",
    "generated_text = []\n",
    "for _ in range(10):    #Generate 10 words \n",
    "    word = random.choices(list(word_prob.keys()), list(word_prob.values())) [0]\n",
    "    generated_text.append(word) \n",
    "\n",
    "print(' '.join(generated_text))"
   ]
  },
  {
   "cell_type": "code",
   "execution_count": null,
   "id": "819921d7-1870-45df-bb66-740d2246fbd1",
   "metadata": {},
   "outputs": [],
   "source": []
  },
  {
   "cell_type": "markdown",
   "id": "108643de-5777-4ad9-a893-a730edde2b87",
   "metadata": {},
   "source": [
    "Bigram Model"
   ]
  },
  {
   "cell_type": "code",
   "execution_count": 17,
   "id": "9bbaf9ea-a9de-4ade-92b0-f9fc9fde9837",
   "metadata": {},
   "outputs": [
    {
     "name": "stdout",
     "output_type": "stream",
     "text": [
      "the cat is fat\n"
     ]
    }
   ],
   "source": [
    "import random\n",
    "from collections import defaultdict\n",
    "\n",
    "#Define the corpus\n",
    "\n",
    "#split the corpus into words\n",
    "\n",
    "#Build the bigram model\n",
    "bigrams = [(words[i], words[i+1]) for i in range(len(words) - 1)]\n",
    "bigram_freq = defaultdict(lambda: defaultdict(int))\n",
    "\n",
    "for w1, w2 in bigrams:\n",
    "    bigram_freq[w1][w2] += 1\n",
    "\n",
    "#Convert counts to probabilities\n",
    "bigram_prob = defaultdict(dict)\n",
    "for w1 in bigram_freq:\n",
    "    total_count = float(sum(bigram_freq[w1].values()))\n",
    "    for w2 in bigram_freq[w1]:\n",
    "        bigram_prob[w1][w2] = bigram_freq[w1][w2] / total_count\n",
    "\n",
    "#Generate text using the bigram model\n",
    "def generate_text(start_word, length = 10):\n",
    "    current_word = start_word\n",
    "    result = [current_word]\n",
    "    for _ in range(length - 1):\n",
    "        if current_word in bigram_prob:\n",
    "            next_word = random.choices(list(bigram_prob[current_word].keys()), list(bigram_prob[current_word].values())) [0]\n",
    "            result.append(next_word)\n",
    "            current_word = next_word\n",
    "        else:\n",
    "            break\n",
    "    return ' '.join(result)\n",
    "\n",
    "generated_text = generate_text(start_word = 'the', length = 10)\n",
    "print(generated_text)"
   ]
  },
  {
   "cell_type": "code",
   "execution_count": null,
   "id": "0542dedc-8236-435d-9049-60f1b97635b1",
   "metadata": {},
   "outputs": [],
   "source": []
  },
  {
   "cell_type": "markdown",
   "id": "39050669-908b-496e-b103-f5544c5501a4",
   "metadata": {},
   "source": [
    "Trigram Model"
   ]
  },
  {
   "cell_type": "code",
   "execution_count": 15,
   "id": "f29eec02-06c5-4961-82a4-fcb4a76b8183",
   "metadata": {},
   "outputs": [
    {
     "name": "stdout",
     "output_type": "stream",
     "text": [
      "the cat sat on the mat the cat is fat\n"
     ]
    }
   ],
   "source": [
    "trigrams = [(words[i], words[i+1], words[i+2]) for i in range(len(words) - 2)]\n",
    "trigram_freq = defaultdict(lambda: defaultdict(int))\n",
    "\n",
    "for w1, w2, w3 in trigrams:\n",
    "    trigram_freq[(w1, w2)][w3] += 1\n",
    "\n",
    "trigram_prob = defaultdict(dict)\n",
    "for w1_w2 in trigram_freq:\n",
    "    total_count = float(sum(trigram_freq[w1_w2].values()))\n",
    "    for w3 in trigram_freq[w1_w2]:                                                                                                  \n",
    "        trigram_prob[w1_w2][w3] = trigram_freq[w1_w2][w3] / total_count\n",
    "\n",
    "def generate_text(start_words, length = 10):\n",
    "    current_words = start_words\n",
    "    result = list(current_words)\n",
    "    for _ in range(length - 2):\n",
    "        if current_words in trigram_prob:\n",
    "            next_word = random.choices(list(trigram_prob[current_words].keys()), list(trigram_prob[current_words].values())) [0]\n",
    "            result.append(next_word)\n",
    "            current_words = (current_words[1], next_word)\n",
    "        else:\n",
    "            break\n",
    "    return ' '.join(result)\n",
    "\n",
    "#Generate text starting with 'the cat'\n",
    "generated_text2 = generate_text(start_words = ('the', 'cat'), length = 10)\n",
    "print(generated_text2)"
   ]
  },
  {
   "cell_type": "code",
   "execution_count": null,
   "id": "8cc1c169-fb8e-4cb2-b6dc-f7e6645801d1",
   "metadata": {},
   "outputs": [],
   "source": []
  },
  {
   "cell_type": "code",
   "execution_count": null,
   "id": "d29ef73b-5555-4ceb-b534-bdda2e3e46e3",
   "metadata": {},
   "outputs": [],
   "source": []
  }
 ],
 "metadata": {
  "kernelspec": {
   "display_name": "Python 3 (ipykernel)",
   "language": "python",
   "name": "python3"
  },
  "language_info": {
   "codemirror_mode": {
    "name": "ipython",
    "version": 3
   },
   "file_extension": ".py",
   "mimetype": "text/x-python",
   "name": "python",
   "nbconvert_exporter": "python",
   "pygments_lexer": "ipython3",
   "version": "3.12.4"
  }
 },
 "nbformat": 4,
 "nbformat_minor": 5
}
